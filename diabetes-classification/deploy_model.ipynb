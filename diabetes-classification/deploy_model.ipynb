{
 "cells": [
  {
   "cell_type": "markdown",
   "metadata": {},
   "source": [
    "### Sample Diabetes Classification Model Deployment\n",
    "This notebook is the second part for a two-part solution, it demonstrates deployment of a trained Machine Learning Model to Azure Kubernetes cluster from a Docker Image which was created in the first notebook <a href=\"./build-model.ipynb\">build-model</a>.\n",
    "\n",
    "##### Azure Machine Learning and Power BI Integration\n",
    "\n",
    "The way the scoring file was implemented the deployed web service can be consumed in Power BI in addition to any other REST client like Postman or a custom application. In order to consume the web service from Power BI DataFlows, user will need to be given permissions on the Azure Machine Learning Workspace, the following link <a href=\"https://docs.microsoft.com/en-us/power-bi/service-machine-learning-integration\">Azure Machine Learning integration in Power BI</a> documents the process to consume the service. Please note at the time this notebook was created (June 2019), the user needs to be given Contributor level permissions  on Azure Machine Learning Workspace in contrary to what's documentated on the above link but its expected that the issue will be fixed and the official documentation will be accurate in future.\n",
    "\n",
    "**Power BI to AML Web Service Authentication**\n",
    "\n",
    "AML Web Service authentication is Api Key based but when configuring Power BI DataFlow to consume Web Service you will notice there is no prompt which asks of Api Key. This is because Power BI is a specialized client and once the user creating DataFlow has appropriate permissions on AML Workspace Power BI will make ListKeys call to Azure Resource Manager (which is the Control Pane) to retrieve the keys and then use the keys to communicate with the web service.  Such List Keys calls are recorded in the Activity Log.\n",
    "\n"
   ]
  },
  {
   "cell_type": "code",
   "execution_count": 9,
   "metadata": {},
   "outputs": [],
   "source": [
    "import azureml.core\n",
    "from azureml.core.experiment import Experiment\n",
    "from azureml.core.workspace import Workspace\n",
    "from azureml.core.image import Image\n",
    "from azureml.core.compute import AksCompute, ComputeTarget\n",
    "from azureml.core.webservice import Webservice, AksWebservice\n"
   ]
  },
  {
   "cell_type": "markdown",
   "metadata": {},
   "source": [
    "## Initialization\n",
    "Initialize the connection to AML Workspace, the first notebook saves the configuration in a file hence saved configuration file is used to login to Workspace"
   ]
  },
  {
   "cell_type": "code",
   "execution_count": 10,
   "metadata": {},
   "outputs": [
    {
     "name": "stdout",
     "output_type": "stream",
     "text": [
      "demoaml\n",
      "demo-aml-use\n",
      "eastus\n",
      "36cfc6d6-79ca-4642-b263-93d6eaa4a823\n"
     ]
    }
   ],
   "source": [
    "ws = Workspace.from_config()\n",
    "print(ws.name, ws.resource_group, ws.location, ws.subscription_id, sep = '\\n')"
   ]
  },
  {
   "cell_type": "code",
   "execution_count": 22,
   "metadata": {},
   "outputs": [],
   "source": [
    "akscompute_cluster_name = \"k8cpucluster2\"\n",
    "image_name = \"diabclassprob\"\n",
    "service_name = \"diabdemo2\""
   ]
  },
  {
   "cell_type": "markdown",
   "metadata": {},
   "source": [
    "### Deployment Target\n",
    "\n",
    "Trained Model Web Service is deployed to an AKS Cluster (deployment targets are also referred to as Compute Target in AML terminology). The AML Workspace is queried for a list of existing Deployment Targets, an existing cluster is used if one exists (determined based on the Compute Target and Type) otherwise a new cluster is created.\n",
    "\n",
    "**One important thing to note in the AKS Cluster creation configuration is that SSL is enabled on the cluster so that service communication is over HTTPS, in this case a certificate from Microsoft is used. Please refer to <a href=\"https://docs.microsoft.com/en-us/azure/machine-learning/service/how-to-secure-web-service#enable\">AML - Secure web services with SSL</a> default configuration does not enable SSL\n"
   ]
  },
  {
   "cell_type": "code",
   "execution_count": 23,
   "metadata": {},
   "outputs": [
    {
     "name": "stdout",
     "output_type": "stream",
     "text": [
      "Found existing compute target.\n"
     ]
    }
   ],
   "source": [
    "found = False\n",
    "\n",
    "# Check if this compute target already exists in the workspace.\n",
    "\n",
    "cts = ws.compute_targets\n",
    "\n",
    "if akscompute_cluster_name in cts and cts[akscompute_cluster_name].type == 'AKS':\n",
    "    found = True\n",
    "    print('Found existing compute target.')\n",
    "    deployment_target = cts[akscompute_cluster_name]\n",
    "\n",
    "if not found:\n",
    "    print('Creating a new compute target...')\n",
    "        \n",
    "    prov_config = AksCompute.provisioning_configuration()\n",
    "    prov_config.enable_ssl(leaf_domain_label = service_name)\n",
    "    \n",
    "    # Create the cluster\n",
    "    deployment_target = ComputeTarget.create(workspace = ws, \n",
    "                                      name = akscompute_cluster_name, \n",
    "                                      provisioning_configuration = prov_config)\n",
    "\n",
    "    deployment_target.wait_for_completion(show_output = True)\n",
    "\n",
    "    print(deployment_target.provisioning_state)\n",
    "    print(deployment_target.provisioning_errors)"
   ]
  },
  {
   "cell_type": "code",
   "execution_count": 29,
   "metadata": {},
   "outputs": [
    {
     "data": {
      "text/plain": [
       "'k8cpucluster2'"
      ]
     },
     "execution_count": 29,
     "metadata": {},
     "output_type": "execute_result"
    }
   ],
   "source": [
    "akscompute_cluster_name"
   ]
  },
  {
   "cell_type": "code",
   "execution_count": 24,
   "metadata": {},
   "outputs": [],
   "source": [
    "image_list = Image.list(workspace = ws, image_name = image_name)"
   ]
  },
  {
   "cell_type": "code",
   "execution_count": 25,
   "metadata": {},
   "outputs": [
    {
     "name": "stdout",
     "output_type": "stream",
     "text": [
      "Name:  diabclassprob ,Version:  6\n"
     ]
    }
   ],
   "source": [
    "image = image_list[0]\n",
    "print(\"Name: \", image.name, \",Version: \", image.version)"
   ]
  },
  {
   "cell_type": "code",
   "execution_count": 26,
   "metadata": {},
   "outputs": [],
   "source": [
    "aks_config = AksWebservice.deploy_configuration(num_replicas=2)"
   ]
  },
  {
   "cell_type": "code",
   "execution_count": null,
   "metadata": {},
   "outputs": [
    {
     "name": "stdout",
     "output_type": "stream",
     "text": [
      "Creating service\n",
      "Running."
     ]
    }
   ],
   "source": [
    "%%time\n",
    "aks_service_name = service_name\n",
    "\n",
    "aks_service = Webservice.deploy_from_image(workspace = ws, \n",
    "                                           name = aks_service_name,\n",
    "                                           image = image,\n",
    "                                           deployment_config = aks_config,\n",
    "                                           deployment_target = deployment_target)\n",
    "aks_service.wait_for_deployment(show_output = True)\n",
    "print(aks_service.state)"
   ]
  },
  {
   "cell_type": "code",
   "execution_count": 17,
   "metadata": {},
   "outputs": [
    {
     "name": "stderr",
     "output_type": "stream",
     "text": [
      "Received bad response from Model Management Service:\n",
      "Response Code: 400\n",
      "Headers: {'Date': 'Tue, 25 Jun 2019 20:26:26 GMT', 'Content-Type': 'application/json', 'Transfer-Encoding': 'chunked', 'Connection': 'keep-alive', 'Request-Context': 'appId=cid-v1:2d2e8e63-272e-4b3c-8598-4ee570a0e70d', 'api-supported-versions': '1.0, 2018-03-01-preview, 2018-11-19', 'x-ms-client-request-id': '785d2ccfb2a04a8b821b5858284bbfae', 'x-ms-client-session-id': '', 'Strict-Transport-Security': 'max-age=15724800; includeSubDomains; preload'}\n",
      "Content: b'{\"code\":\"BadRequest\",\"statusCode\":400,\"message\":\"The request is invalid\",\"details\":[{\"code\":\"NoPodsAvailableForLogs\",\"message\":\"There are no backend pods available for this service. No logs could be retrieved.\"}]}'\n",
      "\n"
     ]
    },
    {
     "ename": "WebserviceException",
     "evalue": "Received bad response from Model Management Service:\nResponse Code: 400\nHeaders: {'Date': 'Tue, 25 Jun 2019 20:26:26 GMT', 'Content-Type': 'application/json', 'Transfer-Encoding': 'chunked', 'Connection': 'keep-alive', 'Request-Context': 'appId=cid-v1:2d2e8e63-272e-4b3c-8598-4ee570a0e70d', 'api-supported-versions': '1.0, 2018-03-01-preview, 2018-11-19', 'x-ms-client-request-id': '785d2ccfb2a04a8b821b5858284bbfae', 'x-ms-client-session-id': '', 'Strict-Transport-Security': 'max-age=15724800; includeSubDomains; preload'}\nContent: b'{\"code\":\"BadRequest\",\"statusCode\":400,\"message\":\"The request is invalid\",\"details\":[{\"code\":\"NoPodsAvailableForLogs\",\"message\":\"There are no backend pods available for this service. No logs could be retrieved.\"}]}'",
     "output_type": "error",
     "traceback": [
      "\u001b[0;31m---------------------------------------------------------------------------\u001b[0m",
      "\u001b[0;31mWebserviceException\u001b[0m                       Traceback (most recent call last)",
      "\u001b[0;32m<ipython-input-17-b839146c0aa8>\u001b[0m in \u001b[0;36m<module>\u001b[0;34m\u001b[0m\n\u001b[0;32m----> 1\u001b[0;31m \u001b[0maks_service\u001b[0m\u001b[0;34m.\u001b[0m\u001b[0mget_logs\u001b[0m\u001b[0;34m(\u001b[0m\u001b[0;34m)\u001b[0m\u001b[0;34m\u001b[0m\u001b[0;34m\u001b[0m\u001b[0m\n\u001b[0m",
      "\u001b[0;32m/anaconda/envs/py36/lib/python3.6/site-packages/azureml/core/webservice/webservice.py\u001b[0m in \u001b[0;36mget_logs\u001b[0;34m(self, num_lines)\u001b[0m\n\u001b[1;32m    723\u001b[0m                                       \u001b[0;34m'Headers: {}\\n'\u001b[0m\u001b[0;34m\u001b[0m\u001b[0;34m\u001b[0m\u001b[0m\n\u001b[1;32m    724\u001b[0m                                       \u001b[0;34m'Content: {}'\u001b[0m\u001b[0;34m.\u001b[0m\u001b[0mformat\u001b[0m\u001b[0;34m(\u001b[0m\u001b[0mresp\u001b[0m\u001b[0;34m.\u001b[0m\u001b[0mstatus_code\u001b[0m\u001b[0;34m,\u001b[0m \u001b[0mresp\u001b[0m\u001b[0;34m.\u001b[0m\u001b[0mheaders\u001b[0m\u001b[0;34m,\u001b[0m \u001b[0mresp\u001b[0m\u001b[0;34m.\u001b[0m\u001b[0mcontent\u001b[0m\u001b[0;34m)\u001b[0m\u001b[0;34m,\u001b[0m\u001b[0;34m\u001b[0m\u001b[0;34m\u001b[0m\u001b[0m\n\u001b[0;32m--> 725\u001b[0;31m                                       logger=module_logger)\n\u001b[0m\u001b[1;32m    726\u001b[0m         \u001b[0;32melse\u001b[0m\u001b[0;34m:\u001b[0m\u001b[0;34m\u001b[0m\u001b[0;34m\u001b[0m\u001b[0m\n\u001b[1;32m    727\u001b[0m             \u001b[0mcontent\u001b[0m \u001b[0;34m=\u001b[0m \u001b[0mresp\u001b[0m\u001b[0;34m.\u001b[0m\u001b[0mcontent\u001b[0m\u001b[0;34m\u001b[0m\u001b[0;34m\u001b[0m\u001b[0m\n",
      "\u001b[0;31mWebserviceException\u001b[0m: Received bad response from Model Management Service:\nResponse Code: 400\nHeaders: {'Date': 'Tue, 25 Jun 2019 20:26:26 GMT', 'Content-Type': 'application/json', 'Transfer-Encoding': 'chunked', 'Connection': 'keep-alive', 'Request-Context': 'appId=cid-v1:2d2e8e63-272e-4b3c-8598-4ee570a0e70d', 'api-supported-versions': '1.0, 2018-03-01-preview, 2018-11-19', 'x-ms-client-request-id': '785d2ccfb2a04a8b821b5858284bbfae', 'x-ms-client-session-id': '', 'Strict-Transport-Security': 'max-age=15724800; includeSubDomains; preload'}\nContent: b'{\"code\":\"BadRequest\",\"statusCode\":400,\"message\":\"The request is invalid\",\"details\":[{\"code\":\"NoPodsAvailableForLogs\",\"message\":\"There are no backend pods available for this service. No logs could be retrieved.\"}]}'"
     ]
    }
   ],
   "source": [
    "aks_service.get_logs()"
   ]
  },
  {
   "cell_type": "markdown",
   "metadata": {},
   "source": [
    "### Deployed Service\n",
    "\n",
    "* Writes out the Scoring Uri, Swagger Uri  and Api Key for Deployed Service.\n",
    "* The deployed service for inferencing is a REST service and uses Api Key for authentication"
   ]
  },
  {
   "cell_type": "code",
   "execution_count": null,
   "metadata": {},
   "outputs": [],
   "source": [
    "print(\"ScoringUri: \", aks_service.scoring_uri)\n",
    "print(\"Swagger Uri: \", aks_service.swagger_uri)\n",
    "key1,key2 = aks_service.get_keys()\n",
    "print(key1)"
   ]
  },
  {
   "cell_type": "code",
   "execution_count": null,
   "metadata": {},
   "outputs": [],
   "source": [
    "# construct raw HTTP request and send to the service\n",
    "import requests\n",
    "import json\n",
    "\n",
    "test_sample = json.dumps({'data': [\n",
    "    \t{\n",
    "\t\t\t\t\t\"pregnancies\": \"6\",\n",
    "\t    \t\t\t\"plasma glucose\": \"148\",\n",
    "\t    \t\t\t\"blood pressure\": \"72\",\n",
    "\t    \t\t\t\"triceps skin thickness\": \"35\",\n",
    "\t    \t\t\t\"insulin\": \"0\",\n",
    "\t    \t\t\t\"bmi\": \"33.6\",\n",
    "\t    \t\t\t\"diabetes pedigree\": \"0.627\",\n",
    "\t    \t\t\t\"age\": \"50\"\n",
    "\t\t\t\t},\n",
    "\t\t\t\t{\n",
    "\t\t\t\t\t\"pregnancies\": \"1\",\n",
    "\t    \t\t\t\"plasma glucose\": \"85\",\n",
    "\t    \t\t\t\"blood pressure\": \"66\",\n",
    "\t    \t\t\t\"triceps skin thickness\": \"29\",\n",
    "\t    \t\t\t\"insulin\": \"0\",\n",
    "\t    \t\t\t\"bmi\": \"26.6\",\n",
    "\t    \t\t\t\"diabetes pedigree\": \"0.351\",\n",
    "\t    \t\t\t\"age\": \"31\"\n",
    "\t\t\t\t}\n",
    "]})\n",
    "test_sample = bytes(test_sample,encoding = 'utf8')\n",
    "\n",
    "# Don't forget to add key to the HTTP header.\n",
    "headers = {'Content-Type':'application/json', 'Authorization': 'Bearer ' + key1}\n",
    "\n",
    "resp = requests.post(aks_service.scoring_uri, test_sample, headers=headers)\n",
    "\n",
    "\n",
    "print(\"prediction:\", resp.text)\n"
   ]
  }
 ],
 "metadata": {
  "kernelspec": {
   "display_name": "Python 3.6 - AzureML",
   "language": "python",
   "name": "python3-azureml"
  },
  "language_info": {
   "codemirror_mode": {
    "name": "ipython",
    "version": 3
   },
   "file_extension": ".py",
   "mimetype": "text/x-python",
   "name": "python",
   "nbconvert_exporter": "python",
   "pygments_lexer": "ipython3",
   "version": "3.6.8"
  }
 },
 "nbformat": 4,
 "nbformat_minor": 2
}
