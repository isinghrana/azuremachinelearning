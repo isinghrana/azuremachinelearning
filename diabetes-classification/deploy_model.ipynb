{
 "cells": [
  {
   "cell_type": "code",
   "execution_count": 1,
   "metadata": {},
   "outputs": [],
   "source": [
    "import azureml.core\n",
    "from azureml.core.experiment import Experiment\n",
    "from azureml.core.workspace import Workspace\n",
    "from azureml.core.image import Image\n",
    "from azureml.core.compute import AksCompute, ComputeTarget\n",
    "from azureml.core.webservice import Webservice, AksWebservice\n"
   ]
  },
  {
   "cell_type": "code",
   "execution_count": 2,
   "metadata": {},
   "outputs": [
    {
     "name": "stdout",
     "output_type": "stream",
     "text": [
      "demoaml\n",
      "demo-aml-use\n",
      "eastus\n",
      "36cfc6d6-79ca-4642-b263-93d6eaa4a823\n"
     ]
    }
   ],
   "source": [
    "ws = Workspace.from_config()\n",
    "print(ws.name, ws.resource_group, ws.location, ws.subscription_id, sep = '\\n')"
   ]
  },
  {
   "cell_type": "code",
   "execution_count": 3,
   "metadata": {},
   "outputs": [],
   "source": [
    "akscompute_cluster_name = \"k8cpucluster\"\n",
    "image_name = \"diabclassprob\"\n",
    "service_name = \"diabdemo2\""
   ]
  },
  {
   "cell_type": "code",
   "execution_count": 4,
   "metadata": {},
   "outputs": [
    {
     "name": "stdout",
     "output_type": "stream",
     "text": [
      "Found existing compute target.\n"
     ]
    }
   ],
   "source": [
    "found = False\n",
    "\n",
    "# Check if this compute target already exists in the workspace.\n",
    "\n",
    "cts = ws.compute_targets\n",
    "\n",
    "if akscompute_cluster_name in cts and cts[akscompute_cluster_name].type == 'AKS':\n",
    "    found = True\n",
    "    print('Found existing compute target.')\n",
    "    deployment_target = cts[akscompute_cluster_name]\n",
    "\n",
    "if not found:\n",
    "    print('Creating a new compute target...')\n",
    "        \n",
    "    prov_config = AksCompute.provisioning_configuration()\n",
    "    prov_config.enable_ssl(leaf_domain_label = service_name)\n",
    "    \n",
    "    # Create the cluster\n",
    "    deployment_target = ComputeTarget.create(workspace = ws, \n",
    "                                      name = akscompute_cluster_name, \n",
    "                                      provisioning_configuration = prov_config)\n",
    "\n",
    "    deployment_target.wait_for_completion(show_output = True)\n",
    "\n",
    "    print(deployment_target.provisioning_state)\n",
    "    print(deployment_target.provisioning_errors)"
   ]
  },
  {
   "cell_type": "code",
   "execution_count": 5,
   "metadata": {},
   "outputs": [],
   "source": [
    "image_list = Image.list(workspace = ws, image_name = image_name)"
   ]
  },
  {
   "cell_type": "code",
   "execution_count": 6,
   "metadata": {},
   "outputs": [
    {
     "name": "stdout",
     "output_type": "stream",
     "text": [
      "Name:  diabclassprob ,Version:  6\n"
     ]
    }
   ],
   "source": [
    "image = image_list[0]\n",
    "print(\"Name: \", image.name, \",Version: \", image.version)"
   ]
  },
  {
   "cell_type": "code",
   "execution_count": 7,
   "metadata": {},
   "outputs": [],
   "source": [
    "aks_config = AksWebservice.deploy_configuration(num_replicas=2)"
   ]
  },
  {
   "cell_type": "code",
   "execution_count": 8,
   "metadata": {},
   "outputs": [
    {
     "name": "stdout",
     "output_type": "stream",
     "text": [
      "Creating service\n",
      "Running.\n",
      "Failed"
     ]
    },
    {
     "name": "stderr",
     "output_type": "stream",
     "text": [
      "Service deployment polling reached non-successful terminal state, current service state: Failed\n",
      "Error:\n",
      "{\n",
      "  \"code\": \"KubernetesError\",\n",
      "  \"statusCode\": 400,\n",
      "  \"message\": \"Kubernetes Deployment Error\",\n",
      "  \"details\": [\n",
      "    {\n",
      "      \"code\": \"Unschedulable\",\n",
      "      \"message\": \"0/3 nodes are available: 3 Insufficient cpu.\"\n",
      "    }\n",
      "  ]\n",
      "}\n",
      "\n",
      "Service deployment polling reached non-successful terminal state, current service state: Failed\n",
      "Error:\n",
      "{\n",
      "  \"code\": \"KubernetesError\",\n",
      "  \"statusCode\": 400,\n",
      "  \"message\": \"Kubernetes Deployment Error\",\n",
      "  \"details\": [\n",
      "    {\n",
      "      \"code\": \"Unschedulable\",\n",
      "      \"message\": \"0/3 nodes are available: 3 Insufficient cpu.\"\n",
      "    }\n",
      "  ]\n",
      "}\n",
      "\n"
     ]
    },
    {
     "ename": "WebserviceException",
     "evalue": "Service deployment polling reached non-successful terminal state, current service state: Failed\nError:\n{\n  \"code\": \"KubernetesError\",\n  \"statusCode\": 400,\n  \"message\": \"Kubernetes Deployment Error\",\n  \"details\": [\n    {\n      \"code\": \"Unschedulable\",\n      \"message\": \"0/3 nodes are available: 3 Insufficient cpu.\"\n    }\n  ]\n}",
     "output_type": "error",
     "traceback": [
      "\u001b[0;31m---------------------------------------------------------------------------\u001b[0m",
      "\u001b[0;31mWebserviceException\u001b[0m                       Traceback (most recent call last)",
      "\u001b[0;32m/anaconda/envs/py36/lib/python3.6/site-packages/azureml/core/webservice/webservice.py\u001b[0m in \u001b[0;36mwait_for_deployment\u001b[0;34m(self, show_output)\u001b[0m\n\u001b[1;32m    462\u001b[0m                                           \u001b[0;34m'Error:\\n'\u001b[0m\u001b[0;34m\u001b[0m\u001b[0;34m\u001b[0m\u001b[0m\n\u001b[0;32m--> 463\u001b[0;31m                                           '{}'.format(self.state, error_response), logger=module_logger)\n\u001b[0m\u001b[1;32m    464\u001b[0m             print('{} service creation operation finished, operation \"{}\"'.format(self._webservice_type,\n",
      "\u001b[0;31mWebserviceException\u001b[0m: Service deployment polling reached non-successful terminal state, current service state: Failed\nError:\n{\n  \"code\": \"KubernetesError\",\n  \"statusCode\": 400,\n  \"message\": \"Kubernetes Deployment Error\",\n  \"details\": [\n    {\n      \"code\": \"Unschedulable\",\n      \"message\": \"0/3 nodes are available: 3 Insufficient cpu.\"\n    }\n  ]\n}",
      "\nDuring handling of the above exception, another exception occurred:\n",
      "\u001b[0;31mWebserviceException\u001b[0m                       Traceback (most recent call last)",
      "\u001b[0;32m<timed exec>\u001b[0m in \u001b[0;36m<module>\u001b[0;34m\u001b[0m\n",
      "\u001b[0;32m/anaconda/envs/py36/lib/python3.6/site-packages/azureml/core/webservice/webservice.py\u001b[0m in \u001b[0;36mwait_for_deployment\u001b[0;34m(self, show_output)\u001b[0m\n\u001b[1;32m    470\u001b[0m                                           'Current state is {}'.format(self.state), logger=module_logger)\n\u001b[1;32m    471\u001b[0m             \u001b[0;32melse\u001b[0m\u001b[0;34m:\u001b[0m\u001b[0;34m\u001b[0m\u001b[0;34m\u001b[0m\u001b[0m\n\u001b[0;32m--> 472\u001b[0;31m                 \u001b[0;32mraise\u001b[0m \u001b[0mWebserviceException\u001b[0m\u001b[0;34m(\u001b[0m\u001b[0me\u001b[0m\u001b[0;34m.\u001b[0m\u001b[0mmessage\u001b[0m\u001b[0;34m,\u001b[0m \u001b[0mlogger\u001b[0m\u001b[0;34m=\u001b[0m\u001b[0mmodule_logger\u001b[0m\u001b[0;34m)\u001b[0m\u001b[0;34m\u001b[0m\u001b[0;34m\u001b[0m\u001b[0m\n\u001b[0m\u001b[1;32m    473\u001b[0m \u001b[0;34m\u001b[0m\u001b[0m\n\u001b[1;32m    474\u001b[0m     \u001b[0;32mdef\u001b[0m \u001b[0m_wait_for_operation_to_complete\u001b[0m\u001b[0;34m(\u001b[0m\u001b[0mself\u001b[0m\u001b[0;34m,\u001b[0m \u001b[0mshow_output\u001b[0m\u001b[0;34m)\u001b[0m\u001b[0;34m:\u001b[0m\u001b[0;34m\u001b[0m\u001b[0;34m\u001b[0m\u001b[0m\n",
      "\u001b[0;31mWebserviceException\u001b[0m: Service deployment polling reached non-successful terminal state, current service state: Failed\nError:\n{\n  \"code\": \"KubernetesError\",\n  \"statusCode\": 400,\n  \"message\": \"Kubernetes Deployment Error\",\n  \"details\": [\n    {\n      \"code\": \"Unschedulable\",\n      \"message\": \"0/3 nodes are available: 3 Insufficient cpu.\"\n    }\n  ]\n}"
     ]
    }
   ],
   "source": [
    "%%time\n",
    "aks_service_name = service_name\n",
    "\n",
    "aks_service = Webservice.deploy_from_image(workspace = ws, \n",
    "                                           name = aks_service_name,\n",
    "                                           image = image,\n",
    "                                           deployment_config = aks_config,\n",
    "                                           deployment_target = deployment_target)\n",
    "aks_service.wait_for_deployment(show_output = True)\n",
    "print(aks_service.state)"
   ]
  },
  {
   "cell_type": "code",
   "execution_count": 13,
   "metadata": {},
   "outputs": [
    {
     "data": {
      "text/plain": [
       "\"2019-06-24T16:18:24,186719293+00:00 - rsyslog/run \\n2019-06-24T16:18:24,187349694+00:00 - iot-server/run \\n2019-06-24T16:18:24,188339897+00:00 - gunicorn/run \\n2019-06-24T16:18:24,207161644+00:00 - nginx/run \\nEdgeHubConnectionString and IOTEDGE_IOTHUBHOSTNAME are not set. Exiting...\\n2019-06-24T16:18:24,407070348+00:00 - iot-server/finish 1 0\\n2019-06-24T16:18:24,416855173+00:00 - Exit code 1 is normal. Not restarting iot-server.\\nStarting gunicorn 19.6.0\\nListening at: http://127.0.0.1:9090 (12)\\nUsing worker: sync\\nworker timeout is set to 300\\nBooting worker with pid: 47\\n'pattern' package not found; tag filters are not available for English\\nInitializing logger\\nStarting up app insights client\\nStarting up request id generator\\nStarting up app insight hooks\\nInvoking user's init function\\n2019-06-24 16:18:31,540 | azureml.core.run | DEBUG | Could not load run context Could not load a submitted run, if outside of an execution context, use experiment.start_logging to initialize an azureml.core.Run., switching offline: False\\n2019-06-24 16:18:31,540 | azureml.core.run | DEBUG | Could not load the run context and allow_offline set to False\\n2019-06-24 16:18:31,540 | azureml.core.model | DEBUG | RunEnvironmentException: Could not load a submitted run, if outside of an execution context, use experiment.start_logging to initialize an azureml.core.Run.\\n2019-06-24 16:18:31,540 | azureml.core.model | DEBUG | version is None. Latest version is 7\\n2019-06-24 16:18:31,540 | azureml.core.model | DEBUG | Found model path at azureml-models/diabclassmodel/7/model.pkl\\nazureml-models/diabclassmodel/7/model.pkl\\nUsers's init has completed successfully\\nScoring timeout setting is not found. Use default timeout: 3600000 ms\\n\""
      ]
     },
     "execution_count": 13,
     "metadata": {},
     "output_type": "execute_result"
    }
   ],
   "source": [
    "aks_service.get_logs()"
   ]
  },
  {
   "cell_type": "code",
   "execution_count": 14,
   "metadata": {},
   "outputs": [
    {
     "name": "stdout",
     "output_type": "stream",
     "text": [
      "ScoringUri:  https://diabdemo1h8qz2b.eastus.cloudapp.azure.com:443/api/v1/service/diabdemo1/score\n",
      "Swagger Uri:  https://diabdemo1h8qz2b.eastus.cloudapp.azure.com:443/api/v1/service/diabdemo1/swagger.json\n"
     ]
    }
   ],
   "source": [
    "print(\"ScoringUri: \", aks_service.scoring_uri)\n",
    "print(\"Swagger Uri: \", aks_service.swagger_uri)\n",
    "key1,key2 = aks_service.get_keys()"
   ]
  },
  {
   "cell_type": "code",
   "execution_count": 15,
   "metadata": {},
   "outputs": [
    {
     "name": "stdout",
     "output_type": "stream",
     "text": [
      "prediction: [{\"prediction\": 1.0, \"probability\": 0.5834204702}, {\"prediction\": 0.0, \"probability\": 0.8421741844}]\n"
     ]
    }
   ],
   "source": [
    "# construct raw HTTP request and send to the service\n",
    "import requests\n",
    "import json\n",
    "\n",
    "test_sample = json.dumps({'data': [\n",
    "    \t{\n",
    "\t\t\t\t\t\"pregnancies\": \"6\",\n",
    "\t    \t\t\t\"plasma glucose\": \"148\",\n",
    "\t    \t\t\t\"blood pressure\": \"72\",\n",
    "\t    \t\t\t\"triceps skin thickness\": \"35\",\n",
    "\t    \t\t\t\"insulin\": \"0\",\n",
    "\t    \t\t\t\"bmi\": \"33.6\",\n",
    "\t    \t\t\t\"diabetes pedigree\": \"0.627\",\n",
    "\t    \t\t\t\"age\": \"50\"\n",
    "\t\t\t\t},\n",
    "\t\t\t\t{\n",
    "\t\t\t\t\t\"pregnancies\": \"1\",\n",
    "\t    \t\t\t\"plasma glucose\": \"85\",\n",
    "\t    \t\t\t\"blood pressure\": \"66\",\n",
    "\t    \t\t\t\"triceps skin thickness\": \"29\",\n",
    "\t    \t\t\t\"insulin\": \"0\",\n",
    "\t    \t\t\t\"bmi\": \"26.6\",\n",
    "\t    \t\t\t\"diabetes pedigree\": \"0.351\",\n",
    "\t    \t\t\t\"age\": \"31\"\n",
    "\t\t\t\t}\n",
    "]})\n",
    "test_sample = bytes(test_sample,encoding = 'utf8')\n",
    "\n",
    "# Don't forget to add key to the HTTP header.\n",
    "headers = {'Content-Type':'application/json', 'Authorization': 'Bearer ' + key1}\n",
    "\n",
    "resp = requests.post(aks_service.scoring_uri, test_sample, headers=headers)\n",
    "\n",
    "\n",
    "print(\"prediction:\", resp.text)\n"
   ]
  },
  {
   "cell_type": "code",
   "execution_count": 16,
   "metadata": {},
   "outputs": [
    {
     "name": "stdout",
     "output_type": "stream",
     "text": [
      "al7ovKSd3CmEkveuGqWWbSXw6sNKvy0x\n"
     ]
    }
   ],
   "source": [
    "print(key1)"
   ]
  }
 ],
 "metadata": {
  "kernelspec": {
   "display_name": "Python 3.6 - AzureML",
   "language": "python",
   "name": "python3-azureml"
  },
  "language_info": {
   "codemirror_mode": {
    "name": "ipython",
    "version": 3
   },
   "file_extension": ".py",
   "mimetype": "text/x-python",
   "name": "python",
   "nbconvert_exporter": "python",
   "pygments_lexer": "ipython3",
   "version": "3.6.8"
  }
 },
 "nbformat": 4,
 "nbformat_minor": 2
}
