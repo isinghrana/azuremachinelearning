{
 "cells": [
  {
   "cell_type": "code",
   "execution_count": 90,
   "metadata": {},
   "outputs": [
    {
     "name": "stdout",
     "output_type": "stream",
     "text": [
      "SDK version: 1.0.41\n"
     ]
    }
   ],
   "source": [
    "import pandas as pd\n",
    "import logging\n",
    "\n",
    "import os\n",
    "import azureml.core\n",
    "from azureml.core.experiment import Experiment\n",
    "from azureml.core.workspace import Workspace\n",
    "from azureml.train.automl import AutoMLConfig\n",
    "from azureml.core.compute import AksCompute, AmlCompute, ComputeTarget\n",
    "from azureml.core import Datastore\n",
    "from azureml.core.runconfig import DataReferenceConfiguration\n",
    "from azureml.core.runconfig import RunConfiguration\n",
    "from azureml.core.conda_dependencies import CondaDependencies\n",
    "\n",
    "# Check core SDK version number\n",
    "print(\"SDK version:\", azureml.core.VERSION)"
   ]
  },
  {
   "cell_type": "code",
   "execution_count": 91,
   "metadata": {},
   "outputs": [],
   "source": [
    "subscription_id = \"36cfc6d6-79ca-4642-b263-93d6eaa4a823\"\n",
    "resource_group = \"demo-aml-use\"\n",
    "workspace_name = \"demoaml\"\n",
    "workspace_region = \"eastus\""
   ]
  },
  {
   "cell_type": "code",
   "execution_count": 92,
   "metadata": {},
   "outputs": [
    {
     "name": "stdout",
     "output_type": "stream",
     "text": [
      "Workspace configuration succeeded. Skip the workspace creation steps below\n"
     ]
    }
   ],
   "source": [
    "try:\n",
    "    ws = Workspace(subscription_id = subscription_id, resource_group = resource_group, workspace_name = workspace_name)\n",
    "    # write the details of the workspace to a configuration file to the notebook library\n",
    "    ws.write_config()\n",
    "    print(\"Workspace configuration succeeded. Skip the workspace creation steps below\")\n",
    "except:\n",
    "    print(\"Workspace not accessible. Change your parameters or create a new workspace below\")"
   ]
  },
  {
   "cell_type": "code",
   "execution_count": 93,
   "metadata": {},
   "outputs": [
    {
     "name": "stdout",
     "output_type": "stream",
     "text": [
      "demoaml\teastus\tdemo-aml-use\n"
     ]
    }
   ],
   "source": [
    "# load workspace configuration from the config.json file in the current folder.\n",
    "ws = Workspace.from_config()\n",
    "print(ws.name, ws.location, ws.resource_group, sep='\\t')"
   ]
  },
  {
   "cell_type": "code",
   "execution_count": 94,
   "metadata": {},
   "outputs": [],
   "source": [
    "# Choose a name for your training cluster.\n",
    "amlcompute_cluster_name = \"traincluster\"\n",
    "experiment_name = 'diabetes-classification'\n",
    "project_folder = './project-temp-files'\n",
    "\n",
    "image_name = \"diabclassprob\""
   ]
  },
  {
   "cell_type": "code",
   "execution_count": 95,
   "metadata": {},
   "outputs": [
    {
     "name": "stdout",
     "output_type": "stream",
     "text": [
      "Found existing compute target.\n"
     ]
    }
   ],
   "source": [
    "found = False\n",
    "\n",
    "# Check if this compute target already exists in the workspace.\n",
    "\n",
    "cts = ws.compute_targets\n",
    "if amlcompute_cluster_name in cts and cts[amlcompute_cluster_name].type == 'AmlCompute':\n",
    "    found = True\n",
    "    print('Found existing compute target.')\n",
    "    compute_target = cts[amlcompute_cluster_name]\n",
    "\n",
    "if not found:\n",
    "    print('Creating a new compute target...')\n",
    "    provisioning_config = AmlCompute.provisioning_configuration(vm_size = \"STANDARD_D2_V2\", # for GPU, use \"STANDARD_NC6\"\n",
    "                                                                #vm_priority = 'lowpriority', # optional\n",
    "                                                                max_nodes = 2)\n",
    "\n",
    "    # Create the cluster.\\n\",\n",
    "    compute_target = ComputeTarget.create(ws, amlcompute_cluster_name, provisioning_config)\n",
    "\n",
    "    # Can poll for a minimum number of nodes and for a specific timeout.\n",
    "    # If no min_node_count is provided, it will use the scale settings for the cluster.\n",
    "    compute_target.wait_for_completion(show_output = True, min_node_count = None, timeout_in_minutes = 20)\n",
    "\n",
    "     # For a more detailed view of current AmlCompute status, use get_status()."
   ]
  },
  {
   "cell_type": "code",
   "execution_count": 96,
   "metadata": {},
   "outputs": [
    {
     "data": {
      "text/html": [
       "<div>\n",
       "<style scoped>\n",
       "    .dataframe tbody tr th:only-of-type {\n",
       "        vertical-align: middle;\n",
       "    }\n",
       "\n",
       "    .dataframe tbody tr th {\n",
       "        vertical-align: top;\n",
       "    }\n",
       "\n",
       "    .dataframe thead th {\n",
       "        text-align: right;\n",
       "    }\n",
       "</style>\n",
       "<table border=\"1\" class=\"dataframe\">\n",
       "  <thead>\n",
       "    <tr style=\"text-align: right;\">\n",
       "      <th></th>\n",
       "      <th></th>\n",
       "    </tr>\n",
       "  </thead>\n",
       "  <tbody>\n",
       "    <tr>\n",
       "      <th>SDK version</th>\n",
       "      <td>1.0.41</td>\n",
       "    </tr>\n",
       "    <tr>\n",
       "      <th>Subscription ID</th>\n",
       "      <td>36cfc6d6-79ca-4642-b263-93d6eaa4a823</td>\n",
       "    </tr>\n",
       "    <tr>\n",
       "      <th>Workspace Name</th>\n",
       "      <td>demoaml</td>\n",
       "    </tr>\n",
       "    <tr>\n",
       "      <th>Resource Group</th>\n",
       "      <td>demo-aml-use</td>\n",
       "    </tr>\n",
       "    <tr>\n",
       "      <th>Location</th>\n",
       "      <td>eastus</td>\n",
       "    </tr>\n",
       "    <tr>\n",
       "      <th>Project Directory</th>\n",
       "      <td>./project-temp-files</td>\n",
       "    </tr>\n",
       "    <tr>\n",
       "      <th>Experiment Name</th>\n",
       "      <td>diabetes-classification</td>\n",
       "    </tr>\n",
       "  </tbody>\n",
       "</table>\n",
       "</div>"
      ],
      "text/plain": [
       "                                                       \n",
       "SDK version        1.0.41                              \n",
       "Subscription ID    36cfc6d6-79ca-4642-b263-93d6eaa4a823\n",
       "Workspace Name     demoaml                             \n",
       "Resource Group     demo-aml-use                        \n",
       "Location           eastus                              \n",
       "Project Directory  ./project-temp-files                \n",
       "Experiment Name    diabetes-classification             "
      ]
     },
     "execution_count": 96,
     "metadata": {},
     "output_type": "execute_result"
    }
   ],
   "source": [
    "# Choose a name for the experiment and specify the project folder.\n",
    "experiment = Experiment(ws, experiment_name)\n",
    "\n",
    "output = {}\n",
    "output['SDK version'] = azureml.core.VERSION\n",
    "output['Subscription ID'] = ws.subscription_id\n",
    "output['Workspace Name'] = ws.name\n",
    "output['Resource Group'] = ws.resource_group\n",
    "output['Location'] = ws.location\n",
    "output['Project Directory'] = project_folder\n",
    "output['Experiment Name'] = experiment.name\n",
    "pd.set_option('display.max_colwidth', -1)\n",
    "outputDf = pd.DataFrame(data = output, index = [''])\n",
    "outputDf.T"
   ]
  },
  {
   "cell_type": "code",
   "execution_count": 97,
   "metadata": {},
   "outputs": [
    {
     "name": "stdout",
     "output_type": "stream",
     "text": [
      "/data/home/isinghrana/notebooks/mysamples/azuremachinelearning/diabetes-classification/data\n",
      "/data/home/isinghrana/notebooks/mysamples/azuremachinelearning/diabetes-classification/data/diabetes_classification_dataset.csv\n"
     ]
    },
    {
     "data": {
      "text/html": [
       "<div>\n",
       "<style scoped>\n",
       "    .dataframe tbody tr th:only-of-type {\n",
       "        vertical-align: middle;\n",
       "    }\n",
       "\n",
       "    .dataframe tbody tr th {\n",
       "        vertical-align: top;\n",
       "    }\n",
       "\n",
       "    .dataframe thead th {\n",
       "        text-align: right;\n",
       "    }\n",
       "</style>\n",
       "<table border=\"1\" class=\"dataframe\">\n",
       "  <thead>\n",
       "    <tr style=\"text-align: right;\">\n",
       "      <th></th>\n",
       "      <th>pregnancies</th>\n",
       "      <th>plasma glucose</th>\n",
       "      <th>blood pressure</th>\n",
       "      <th>triceps skin thickness</th>\n",
       "      <th>insulin</th>\n",
       "      <th>bmi</th>\n",
       "      <th>diabetes pedigree</th>\n",
       "      <th>age</th>\n",
       "      <th>diabetes</th>\n",
       "    </tr>\n",
       "  </thead>\n",
       "  <tbody>\n",
       "    <tr>\n",
       "      <th>0</th>\n",
       "      <td>6</td>\n",
       "      <td>148</td>\n",
       "      <td>72</td>\n",
       "      <td>35</td>\n",
       "      <td>0</td>\n",
       "      <td>33.60</td>\n",
       "      <td>0.63</td>\n",
       "      <td>50</td>\n",
       "      <td>1</td>\n",
       "    </tr>\n",
       "    <tr>\n",
       "      <th>1</th>\n",
       "      <td>1</td>\n",
       "      <td>85</td>\n",
       "      <td>66</td>\n",
       "      <td>29</td>\n",
       "      <td>0</td>\n",
       "      <td>26.60</td>\n",
       "      <td>0.35</td>\n",
       "      <td>31</td>\n",
       "      <td>0</td>\n",
       "    </tr>\n",
       "    <tr>\n",
       "      <th>2</th>\n",
       "      <td>8</td>\n",
       "      <td>183</td>\n",
       "      <td>64</td>\n",
       "      <td>0</td>\n",
       "      <td>0</td>\n",
       "      <td>23.30</td>\n",
       "      <td>0.67</td>\n",
       "      <td>32</td>\n",
       "      <td>1</td>\n",
       "    </tr>\n",
       "    <tr>\n",
       "      <th>3</th>\n",
       "      <td>1</td>\n",
       "      <td>89</td>\n",
       "      <td>66</td>\n",
       "      <td>23</td>\n",
       "      <td>94</td>\n",
       "      <td>28.10</td>\n",
       "      <td>0.17</td>\n",
       "      <td>21</td>\n",
       "      <td>0</td>\n",
       "    </tr>\n",
       "    <tr>\n",
       "      <th>4</th>\n",
       "      <td>0</td>\n",
       "      <td>137</td>\n",
       "      <td>40</td>\n",
       "      <td>35</td>\n",
       "      <td>168</td>\n",
       "      <td>43.10</td>\n",
       "      <td>2.29</td>\n",
       "      <td>33</td>\n",
       "      <td>1</td>\n",
       "    </tr>\n",
       "  </tbody>\n",
       "</table>\n",
       "</div>"
      ],
      "text/plain": [
       "   pregnancies  plasma glucose  blood pressure  triceps skin thickness  \\\n",
       "0  6            148             72              35                       \n",
       "1  1            85              66              29                       \n",
       "2  8            183             64              0                        \n",
       "3  1            89              66              23                       \n",
       "4  0            137             40              35                       \n",
       "\n",
       "   insulin   bmi  diabetes pedigree  age  diabetes  \n",
       "0  0       33.60 0.63                50   1         \n",
       "1  0       26.60 0.35                31   0         \n",
       "2  0       23.30 0.67                32   1         \n",
       "3  94      28.10 0.17                21   0         \n",
       "4  168     43.10 2.29                33   1         "
      ]
     },
     "execution_count": 97,
     "metadata": {},
     "output_type": "execute_result"
    }
   ],
   "source": [
    "data_folder = os.path.join(os.getcwd(),'data')\n",
    "data_file = os.path.join(data_folder, 'diabetes_classification_dataset.csv')\n",
    "print(data_folder)\n",
    "print(data_file)\n",
    "\n",
    "df = pd.read_csv(data_file)\n",
    "df.head()"
   ]
  },
  {
   "cell_type": "code",
   "execution_count": 98,
   "metadata": {},
   "outputs": [
    {
     "name": "stdout",
     "output_type": "stream",
     "text": [
      "Uploading /data/home/isinghrana/notebooks/mysamples/azuremachinelearning/diabetes-classification/data/diabetes_classification_dataset.csv\n",
      "Uploaded /data/home/isinghrana/notebooks/mysamples/azuremachinelearning/diabetes-classification/data/diabetes_classification_dataset.csv, 1 files out of an estimated total of 1\n"
     ]
    },
    {
     "data": {
      "text/plain": [
       "$AZUREML_DATAREFERENCE_13ece8080b2c45c698af71fd5c67e26c"
      ]
     },
     "execution_count": 98,
     "metadata": {},
     "output_type": "execute_result"
    }
   ],
   "source": [
    "ds = ws.get_default_datastore()\n",
    "ds.upload(src_dir=data_folder, target_path='diabetes_classification', overwrite=True, show_progress=True)"
   ]
  },
  {
   "cell_type": "code",
   "execution_count": 99,
   "metadata": {},
   "outputs": [],
   "source": [
    "dr = DataReferenceConfiguration(datastore_name=ds.name, \n",
    "                   path_on_datastore='diabetes-classification', \n",
    "                   path_on_compute='/tmp/azureml_runs',\n",
    "                   mode='download', # download files from datastore to compute target\n",
    "                   overwrite=False)"
   ]
  },
  {
   "cell_type": "code",
   "execution_count": 102,
   "metadata": {},
   "outputs": [],
   "source": [
    "# create a new RunConfig object\n",
    "conda_run_config = RunConfiguration(framework=\"python\")\n",
    "\n",
    "# Set compute target to AmlCompute\n",
    "conda_run_config.target = compute_target\n",
    "conda_run_config.environment.docker.enabled = True\n",
    "conda_run_config.environment.docker.base_image = azureml.core.runconfig.DEFAULT_CPU_IMAGE\n",
    "\n",
    "# set the data reference of the run coonfiguration\n",
    "conda_run_config.data_references = {ds.name: dr}\n",
    "\n",
    "cd = CondaDependencies.create(pip_packages=['azureml-sdk[automl]'], conda_packages=['numpy','py-xgboost<=0.80'])\n",
    "conda_run_config.environment.python.conda_dependencies = cd"
   ]
  },
  {
   "cell_type": "code",
   "execution_count": 103,
   "metadata": {},
   "outputs": [],
   "source": [
    "# Create a project_folder if it doesn't exist\n",
    "if not os.path.exists(project_folder):\n",
    "    os.makedirs(project_folder)\n"
   ]
  },
  {
   "cell_type": "code",
   "execution_count": 104,
   "metadata": {},
   "outputs": [
    {
     "name": "stdout",
     "output_type": "stream",
     "text": [
      "Overwriting ./project-temp-files/get_data.py\n"
     ]
    }
   ],
   "source": [
    "%%writefile ./project-temp-files/get_data.py\n",
    "import pandas as pd\n",
    "import os\n",
    "\n",
    "def get_data():     \n",
    "    df = pd.read_csv(\"/tmp/azureml_runs/diabetes-classification/diabetes_classification_dataset.csv\")\n",
    "    print('after pd.read_csv')    \n",
    "    # get integer labels\n",
    "    y = df[\"diabetes\"]\n",
    "    df = df.drop(\"diabetes\", axis=1)    \n",
    "    return { \"X\" : df, \"y\" : y.values }"
   ]
  },
  {
   "cell_type": "code",
   "execution_count": 105,
   "metadata": {},
   "outputs": [],
   "source": [
    "automl_config = AutoMLConfig(task = 'classification',\n",
    "                             debug_log = 'automl_errors.log',\n",
    "                             path = project_folder,\n",
    "                             #compute_target = compute_target,\n",
    "                             run_configuration=conda_run_config,\n",
    "                             data_script = project_folder + \"/get_data.py\",\n",
    "                             iteration_timeout_minutes = 10,\n",
    "                             iterations = 10,\n",
    "                             n_cross_validations = 5,\n",
    "                             primary_metric = 'AUC_weighted',\n",
    "                             preprocess = True,\n",
    "                             max_concurrent_iterations = 2,\n",
    "                             verbosity= logging.INFO\n",
    "                            )"
   ]
  },
  {
   "cell_type": "code",
   "execution_count": 106,
   "metadata": {},
   "outputs": [],
   "source": [
    "remote_run = experiment.submit(automl_config, show_output = False)"
   ]
  },
  {
   "cell_type": "code",
   "execution_count": 107,
   "metadata": {},
   "outputs": [
    {
     "data": {
      "text/html": [
       "<table style=\"width:100%\"><tr><th>Experiment</th><th>Id</th><th>Type</th><th>Status</th><th>Details Page</th><th>Docs Page</th></tr><tr><td>diabetes-classification</td><td>AutoML_6318397b-0588-4989-b5f6-6e62d0ceecf6</td><td>automl</td><td>Starting</td><td><a href=\"https://mlworkspace.azure.ai/portal/subscriptions/36cfc6d6-79ca-4642-b263-93d6eaa4a823/resourceGroups/demo-aml-use/providers/Microsoft.MachineLearningServices/workspaces/demoaml/experiments/diabetes-classification/runs/AutoML_6318397b-0588-4989-b5f6-6e62d0ceecf6\" target=\"_blank\" rel=\"noopener\">Link to Azure Portal</a></td><td><a href=\"https://docs.microsoft.com/en-us/python/api/overview/azure/ml/intro?view=azure-ml-py\" target=\"_blank\" rel=\"noopener\">Link to Documentation</a></td></tr></table>"
      ],
      "text/plain": [
       "Run(Experiment: diabetes-classification,\n",
       "Id: AutoML_6318397b-0588-4989-b5f6-6e62d0ceecf6,\n",
       "Type: automl,\n",
       "Status: Starting)"
      ]
     },
     "execution_count": 107,
     "metadata": {},
     "output_type": "execute_result"
    }
   ],
   "source": [
    "remote_run"
   ]
  },
  {
   "cell_type": "code",
   "execution_count": 108,
   "metadata": {},
   "outputs": [
    {
     "data": {
      "application/vnd.jupyter.widget-view+json": {
       "model_id": "3d7fbb6aa2f64f459a18d4e320b748a2",
       "version_major": 2,
       "version_minor": 0
      },
      "text/plain": [
       "_AutoMLWidget(widget_settings={'childWidgetDisplay': 'popup', 'send_telemetry': False, 'log_level': 'INFO', 's…"
      ]
     },
     "metadata": {},
     "output_type": "display_data"
    }
   ],
   "source": [
    "from azureml.widgets import RunDetails\n",
    "RunDetails(remote_run).show()"
   ]
  },
  {
   "cell_type": "code",
   "execution_count": 109,
   "metadata": {},
   "outputs": [
    {
     "name": "stdout",
     "output_type": "stream",
     "text": [
      "\n",
      "****************************************************************************************************\n",
      "ITERATION: The iteration being evaluated.\n",
      "PIPELINE: A summary description of the pipeline being evaluated.\n",
      "DURATION: Time taken for the current iteration.\n",
      "METRIC: The result of computing score on the fitted pipeline.\n",
      "BEST: The best observed score thus far.\n",
      "****************************************************************************************************\n",
      "\n",
      " ITERATION   PIPELINE                                       DURATION      METRIC      BEST\n",
      "         1   StandardScalerWrapper SGD                      0:01:26       0.8275    0.8275\n",
      "         0   StandardScalerWrapper SGD                      0:00:49       0.8299    0.8299\n",
      "         3   StandardScalerWrapper SGD                      0:01:11       0.8266    0.8299\n",
      "         2   MinMaxScaler LightGBM                          0:01:16       0.8301    0.8301\n",
      "         5   StandardScalerWrapper LightGBM                 0:00:56       0.8368    0.8368\n",
      "         4   StandardScalerWrapper ExtremeRandomTrees       0:01:21       0.8316    0.8368\n",
      "         7   MinMaxScaler RandomForest                      0:01:10       0.8320    0.8368\n",
      "         6   StandardScalerWrapper SGD                      0:01:09       0.8292    0.8368\n",
      "         9    StackEnsemble                                 0:00:45       0.8405    0.8405\n",
      "         8    VotingEnsemble                                0:02:19       0.8443    0.8443\n",
      "\n",
      "Execution Summary\n",
      "=================\n",
      "RunId: AutoML_6318397b-0588-4989-b5f6-6e62d0ceecf6\n",
      "\n"
     ]
    },
    {
     "data": {
      "text/plain": [
       "{'runId': 'AutoML_6318397b-0588-4989-b5f6-6e62d0ceecf6',\n",
       " 'target': 'traincluster',\n",
       " 'status': 'Completed',\n",
       " 'startTimeUtc': '2019-06-25T19:32:11.581861Z',\n",
       " 'endTimeUtc': '2019-06-25T19:39:59.773587Z',\n",
       " 'properties': {'num_iterations': '10',\n",
       "  'training_type': 'TrainFull',\n",
       "  'acquisition_function': 'EI',\n",
       "  'primary_metric': 'AUC_weighted',\n",
       "  'train_split': '0',\n",
       "  'MaxTimeSeconds': '600',\n",
       "  'acquisition_parameter': '0',\n",
       "  'num_cross_validation': '5',\n",
       "  'target': 'traincluster',\n",
       "  'RawAMLSettingsString': \"{'name': 'diabetes-classification', 'path': './project-temp-files', 'subscription_id': '36cfc6d6-79ca-4642-b263-93d6eaa4a823', 'resource_group': 'demo-aml-use', 'workspace_name': 'demoaml', 'region': 'eastus', 'compute_target': 'traincluster', 'spark_service': None, 'iterations': 10, 'primary_metric': 'AUC_weighted', 'task_type': 'classification', 'data_script': './project-temp-files/get_data.py', 'validation_size': 0.0, 'n_cross_validations': 5, 'y_min': None, 'y_max': None, 'num_classes': None, 'preprocess': True, 'lag_length': 0, 'is_timeseries': False, 'max_cores_per_iteration': 1, 'max_concurrent_iterations': 2, 'iteration_timeout_minutes': 10, 'mem_in_mb': None, 'enforce_time_on_windows': False, 'experiment_timeout_minutes': None, 'experiment_exit_score': None, 'whitelist_models': None, 'blacklist_algos': ['XGBoostClassifier', 'XGBoostClassifier'], 'auto_blacklist': True, 'blacklist_samples_reached': False, 'exclude_nan_labels': True, 'verbosity': 20, 'debug_log': 'automl_errors.log', 'show_warnings': False, 'model_explainability': False, 'service_url': None, 'sdk_url': None, 'sdk_packages': None, 'enable_onnx_compatible_models': False, 'enable_feature_sweeping': True, 'telemetry_verbosity': 'INFO', 'send_telemetry': True, 'enable_early_stopping': False, 'early_stopping_n_iters': 10, 'metrics': None, 'enable_ensembling': True, 'enable_stack_ensembling': True, 'ensemble_iterations': 10, 'enable_tf': False, 'enable_cache': True, 'enable_subsampling': False, 'subsample_seed': None, 'cost_mode': 0, 'metric_operation': 'maximize'}\",\n",
       "  'AMLSettingsJsonString': '{\\n  \"name\": \"diabetes-classification\",\\n  \"path\": \"./project-temp-files\",\\n  \"subscription_id\": \"36cfc6d6-79ca-4642-b263-93d6eaa4a823\",\\n  \"resource_group\": \"demo-aml-use\",\\n  \"workspace_name\": \"demoaml\",\\n  \"region\": \"eastus\",\\n  \"compute_target\": \"traincluster\",\\n  \"spark_service\": null,\\n  \"iterations\": 10,\\n  \"primary_metric\": \"AUC_weighted\",\\n  \"task_type\": \"classification\",\\n  \"data_script\": \"./project-temp-files/get_data.py\",\\n  \"validation_size\": 0.0,\\n  \"n_cross_validations\": 5,\\n  \"y_min\": null,\\n  \"y_max\": null,\\n  \"num_classes\": null,\\n  \"preprocess\": true,\\n  \"lag_length\": 0,\\n  \"is_timeseries\": false,\\n  \"max_cores_per_iteration\": 1,\\n  \"max_concurrent_iterations\": 2,\\n  \"iteration_timeout_minutes\": 10,\\n  \"mem_in_mb\": null,\\n  \"enforce_time_on_windows\": false,\\n  \"experiment_timeout_minutes\": null,\\n  \"experiment_exit_score\": null,\\n  \"whitelist_models\": null,\\n  \"blacklist_algos\": [\\n    \"XGBoostClassifier\",\\n    \"XGBoostClassifier\"\\n  ],\\n  \"auto_blacklist\": true,\\n  \"blacklist_samples_reached\": false,\\n  \"exclude_nan_labels\": true,\\n  \"verbosity\": 20,\\n  \"debug_log\": \"automl_errors.log\",\\n  \"show_warnings\": false,\\n  \"model_explainability\": false,\\n  \"service_url\": null,\\n  \"sdk_url\": null,\\n  \"sdk_packages\": null,\\n  \"enable_onnx_compatible_models\": false,\\n  \"enable_feature_sweeping\": true,\\n  \"telemetry_verbosity\": \"INFO\",\\n  \"send_telemetry\": true,\\n  \"enable_early_stopping\": false,\\n  \"early_stopping_n_iters\": 10,\\n  \"metrics\": null,\\n  \"enable_ensembling\": true,\\n  \"enable_stack_ensembling\": true,\\n  \"ensemble_iterations\": 10,\\n  \"enable_tf\": false,\\n  \"enable_cache\": true,\\n  \"enable_subsampling\": false,\\n  \"subsample_seed\": null,\\n  \"cost_mode\": 0,\\n  \"metric_operation\": \"maximize\"\\n}',\n",
       "  'DataPrepJsonString': None,\n",
       "  'EnableSubsampling': 'False',\n",
       "  'runTemplate': 'AutoML',\n",
       "  'azureml.runsource': 'automl',\n",
       "  'display_task_type': 'classification',\n",
       "  'dependencies_versions': '{\"azureml-widgets\": \"1.0.33\", \"azureml-train\": \"1.0.41\", \"azureml-train-restclients-hyperdrive\": \"1.0.41\", \"azureml-train-core\": \"1.0.41\", \"azureml-train-automl\": \"1.0.41\", \"azureml-telemetry\": \"1.0.41\", \"azureml-sdk\": \"1.0.41\", \"azureml-pipeline\": \"1.0.41\", \"azureml-pipeline-steps\": \"1.0.41\", \"azureml-pipeline-core\": \"1.0.41\", \"azureml-explain-model\": \"1.0.41\", \"azureml-dataprep\": \"1.1.3\", \"azureml-dataprep-native\": \"12.0.1\", \"azureml-core\": \"1.0.41\", \"azureml-contrib-services\": \"1.0.33\", \"azureml-contrib-server\": \"1.0.33\", \"azureml-contrib-opendatasets\": \"1.0.33\", \"azureml-contrib-notebook\": \"1.0.33\", \"azureml-contrib-explain-model\": \"1.0.33\", \"azureml-contrib-brainwave\": \"1.0.33\", \"azureml-automl-core\": \"1.0.41\"}',\n",
       "  'ContentSnapshotId': '1754c5d9-5fa0-483c-be27-10c82868cc5a',\n",
       "  'snapshotId': '1754c5d9-5fa0-483c-be27-10c82868cc5a',\n",
       "  'azureml.git.repository_uri': 'git@github.com:isinghrana/azuremachinelearning.git',\n",
       "  'mlflow.source.git.repoURL': 'git@github.com:isinghrana/azuremachinelearning.git',\n",
       "  'azureml.git.branch': 'master',\n",
       "  'mlflow.source.git.branch': 'master',\n",
       "  'azureml.git.commit': 'fd39fce373209a07b3ec611cd86505aa9e3f657a',\n",
       "  'mlflow.source.git.commit': 'fd39fce373209a07b3ec611cd86505aa9e3f657a',\n",
       "  'azureml.git.dirty': 'True',\n",
       "  'SetupRunId': 'AutoML_6318397b-0588-4989-b5f6-6e62d0ceecf6_setup',\n",
       "  'ProblemInfoJsonString': '{\"dataset_num_categorical\": 0, \"dataset_classes\": 2, \"dataset_features\": 8, \"dataset_samples\": 768, \"is_sparse\": false, \"subsampling\": false}'},\n",
       " 'logFiles': {}}"
      ]
     },
     "execution_count": 109,
     "metadata": {},
     "output_type": "execute_result"
    }
   ],
   "source": [
    "# Wait until the run finishes.\n",
    "remote_run.wait_for_completion(show_output = True)"
   ]
  },
  {
   "cell_type": "code",
   "execution_count": 111,
   "metadata": {},
   "outputs": [],
   "source": [
    "best_run, fitted_model = remote_run.get_output()"
   ]
  },
  {
   "cell_type": "code",
   "execution_count": 112,
   "metadata": {},
   "outputs": [
    {
     "data": {
      "text/plain": [
       "['pregnancies_MeanImputer',\n",
       " 'plasma glucose_MeanImputer',\n",
       " 'blood pressure_MeanImputer',\n",
       " 'triceps skin thickness_MeanImputer',\n",
       " 'insulin_MeanImputer',\n",
       " 'bmi_MeanImputer',\n",
       " 'diabetes pedigree_MeanImputer',\n",
       " 'age_MeanImputer']"
      ]
     },
     "execution_count": 112,
     "metadata": {},
     "output_type": "execute_result"
    }
   ],
   "source": [
    "fitted_model.named_steps['datatransformer'].get_engineered_feature_names()"
   ]
  },
  {
   "cell_type": "code",
   "execution_count": 113,
   "metadata": {},
   "outputs": [
    {
     "data": {
      "text/plain": [
       "[{'RawFeatureName': 'pregnancies',\n",
       "  'TypeDetected': 'Numeric',\n",
       "  'Dropped': 'No',\n",
       "  'EngineeredFeatureCount': 1,\n",
       "  'Tranformations': ['MeanImputer']},\n",
       " {'RawFeatureName': 'plasma glucose',\n",
       "  'TypeDetected': 'Numeric',\n",
       "  'Dropped': 'No',\n",
       "  'EngineeredFeatureCount': 1,\n",
       "  'Tranformations': ['MeanImputer']},\n",
       " {'RawFeatureName': 'blood pressure',\n",
       "  'TypeDetected': 'Numeric',\n",
       "  'Dropped': 'No',\n",
       "  'EngineeredFeatureCount': 1,\n",
       "  'Tranformations': ['MeanImputer']},\n",
       " {'RawFeatureName': 'triceps skin thickness',\n",
       "  'TypeDetected': 'Numeric',\n",
       "  'Dropped': 'No',\n",
       "  'EngineeredFeatureCount': 1,\n",
       "  'Tranformations': ['MeanImputer']},\n",
       " {'RawFeatureName': 'insulin',\n",
       "  'TypeDetected': 'Numeric',\n",
       "  'Dropped': 'No',\n",
       "  'EngineeredFeatureCount': 1,\n",
       "  'Tranformations': ['MeanImputer']},\n",
       " {'RawFeatureName': 'bmi',\n",
       "  'TypeDetected': 'Numeric',\n",
       "  'Dropped': 'No',\n",
       "  'EngineeredFeatureCount': 1,\n",
       "  'Tranformations': ['MeanImputer']},\n",
       " {'RawFeatureName': 'diabetes pedigree',\n",
       "  'TypeDetected': 'Numeric',\n",
       "  'Dropped': 'No',\n",
       "  'EngineeredFeatureCount': 1,\n",
       "  'Tranformations': ['MeanImputer']},\n",
       " {'RawFeatureName': 'age',\n",
       "  'TypeDetected': 'Numeric',\n",
       "  'Dropped': 'No',\n",
       "  'EngineeredFeatureCount': 1,\n",
       "  'Tranformations': ['MeanImputer']}]"
      ]
     },
     "execution_count": 113,
     "metadata": {},
     "output_type": "execute_result"
    }
   ],
   "source": [
    "fitted_model.named_steps['datatransformer'].get_featurization_summary()"
   ]
  },
  {
   "cell_type": "code",
   "execution_count": 114,
   "metadata": {},
   "outputs": [],
   "source": [
    "model = best_run.register_model(model_name = 'diabclassmodel', model_path= 'outputs/model.pkl')"
   ]
  },
  {
   "cell_type": "code",
   "execution_count": 115,
   "metadata": {},
   "outputs": [
    {
     "name": "stdout",
     "output_type": "stream",
     "text": [
      "Writing score.py\n"
     ]
    }
   ],
   "source": [
    "%%writefile score.py\n",
    "# Scoring Script will need model id from registered model\n",
    "import json\n",
    "import numpy as np\n",
    "import os\n",
    "import pickle\n",
    "import pandas as pd\n",
    "from sklearn.externals import joblib\n",
    "from sklearn.linear_model import LogisticRegression\n",
    "\n",
    "from azureml.core.model import Model\n",
    "from inference_schema.schema_decorators import input_schema, output_schema\n",
    "from inference_schema.parameter_types.numpy_parameter_type import NumpyParameterType\n",
    "from inference_schema.parameter_types.pandas_parameter_type import PandasParameterType\n",
    "\n",
    "import azureml.train.automl\n",
    "\n",
    "def init():\n",
    "    global model\n",
    "    # retreive the path to the model file using the model name\n",
    "    model_path = Model.get_model_path('diabclassmodel') # update this based on previously registered model\n",
    "    print(model_path)\n",
    "    model = joblib.load(model_path)\n",
    "\n",
    "input_dict = {\n",
    "    \"pregnancies\": [6],\n",
    "    \"plasma glucose\": [148] ,\n",
    "    \"blood pressure\": [72],\n",
    "    \"triceps skin thickness\": [35],\n",
    "    \"insulin\": [0],\n",
    "    \"bmi\": [33.6],\n",
    "    \"diabetes pedigree\": [0.627],\n",
    "    \"age\": [50]\n",
    "}\n",
    "\n",
    "output_dict = {\n",
    "    \"prediction\": [1],\n",
    "    \"probability\": [.89]\n",
    "}\n",
    "\n",
    "input_sample = pd.DataFrame(input_dict)\n",
    "output_sample =  pd.DataFrame(output_dict)\n",
    "#output_sample = np.array([(\"1\",.90), (\"0\",.84)])\n",
    "\n",
    "@input_schema('data', PandasParameterType(input_sample))\n",
    "@output_schema(PandasParameterType(output_sample))\n",
    "def run(data):\n",
    "    # grab and prepare the data\n",
    "    # make prediction\n",
    "    try:\n",
    "        print('inside the method')                      \n",
    "        result_df = pd.DataFrame(columns = [\"prediction\",\"probability\"]) \n",
    "        \n",
    "        pred = model.predict(data)\n",
    "        prob = model.predict_proba(data)\n",
    "        \n",
    "        print(pred)\n",
    "        print(prob)\n",
    "                \n",
    "        for idx,val in enumerate(pred):\n",
    "            print(\"index:\",idx, \"value:\", val)\n",
    "            print(val)\n",
    "            print(prob[idx][int(val)])\n",
    "            result_df = result_df.append({\"prediction\": val, \"probability\": prob[idx][int(val)]}, ignore_index=True)\n",
    "            \n",
    "    except Exception as e:\n",
    "        print(\"Exception Caught\")\n",
    "        print(str(e))\n",
    "        return [\"exception\", str(e)]    \n",
    "    str = result_df.to_json(orient = 'records')    \n",
    "    return json.loads(str)"
   ]
  },
  {
   "cell_type": "code",
   "execution_count": 116,
   "metadata": {},
   "outputs": [
    {
     "data": {
      "text/plain": [
       "'mydeployenv.yml'"
      ]
     },
     "execution_count": 116,
     "metadata": {},
     "output_type": "execute_result"
    }
   ],
   "source": [
    "myenv = CondaDependencies.create(conda_packages=['numpy','scikit-learn'], pip_packages=['azureml-sdk[automl]', 'inference-schema[numpy-support,pandas-support]'])\n",
    "\n",
    "conda_env_file_name = 'mydeployenv.yml'\n",
    "myenv.save_to_file('.', conda_env_file_name)"
   ]
  },
  {
   "cell_type": "code",
   "execution_count": 117,
   "metadata": {},
   "outputs": [
    {
     "name": "stdout",
     "output_type": "stream",
     "text": [
      "Creating image\n"
     ]
    }
   ],
   "source": [
    "from azureml.core.image import Image, ContainerImage\n",
    "\n",
    "image_config = ContainerImage.image_configuration(runtime= \"python\",\n",
    "                                 execution_script=\"score.py\",\n",
    "                                 conda_file=\"mydeployenv.yml\",\n",
    "                                 tags = {'area': \"diabetes\", 'type': \"classification\"},\n",
    "                                 description = \"Diabetes Classification with probability implemented using AutoML\")\n",
    "\n",
    "image = Image.create(name = image_name,\n",
    "                     # this is the model object. note you can pass in 0-n models via this list-type parameter\n",
    "                     # in case you need to reference multiple models, or none at all, in your scoring script.\n",
    "                     models = [model],\n",
    "                     image_config = image_config, \n",
    "                     workspace = ws)"
   ]
  },
  {
   "cell_type": "code",
   "execution_count": 118,
   "metadata": {},
   "outputs": [
    {
     "name": "stdout",
     "output_type": "stream",
     "text": [
      "Running.........................................\n",
      "Succeeded\n",
      "Image creation operation finished for image diabclassprob:6, operation \"Succeeded\"\n"
     ]
    }
   ],
   "source": [
    "image.wait_for_creation(show_output = True)"
   ]
  }
 ],
 "metadata": {
  "kernelspec": {
   "display_name": "Python 3.6 - AzureML",
   "language": "python",
   "name": "python3-azureml"
  },
  "language_info": {
   "codemirror_mode": {
    "name": "ipython",
    "version": 3
   },
   "file_extension": ".py",
   "mimetype": "text/x-python",
   "name": "python",
   "nbconvert_exporter": "python",
   "pygments_lexer": "ipython3",
   "version": "3.6.8"
  }
 },
 "nbformat": 4,
 "nbformat_minor": 2
}
